{
 "cells": [
  {
   "cell_type": "code",
   "execution_count": 1,
   "id": "61fe8e3c-8ad6-4388-8ad5-4ac7b5597057",
   "metadata": {},
   "outputs": [
    {
     "name": "stdout",
     "output_type": "stream",
     "text": [
      "0     4\n",
      "1     8\n",
      "2    15\n",
      "3    16\n",
      "4    23\n",
      "5    42\n",
      "dtype: int64\n"
     ]
    }
   ],
   "source": [
    "#Q1. Create a Pandas Series that contains the following data: 4, 8, 15, 16, 23, and 42. Then, print the series.\n",
    "import pandas as pd\n",
    "\n",
    "data = [4, 8, 15, 16, 23, 42]\n",
    "series = pd.Series(data)\n",
    "print(series)"
   ]
  },
  {
   "cell_type": "code",
   "execution_count": 3,
   "id": "9728b07e-e78b-421b-aece-e444744e7127",
   "metadata": {},
   "outputs": [
    {
     "name": "stdout",
     "output_type": "stream",
     "text": [
      "0     2\n",
      "1     4\n",
      "2     6\n",
      "3     8\n",
      "4    10\n",
      "5    12\n",
      "6    14\n",
      "7    16\n",
      "8    18\n",
      "9    20\n",
      "dtype: int64\n"
     ]
    }
   ],
   "source": [
    "#Q2. Create a variable of list type containing 10 elements in it, and apply pandas.Series function on the variable print it.\n",
    "\n",
    "import pandas as pd\n",
    "\n",
    "my_list = [2, 4, 6, 8, 10, 12, 14, 16, 18, 20]\n",
    "my_series = pd.Series(my_list)\n",
    "print(my_series)"
   ]
  },
  {
   "cell_type": "code",
   "execution_count": 4,
   "id": "52414fc8-dc71-4e64-90b1-cf1bc58cef8e",
   "metadata": {},
   "outputs": [
    {
     "data": {
      "text/html": [
       "<div>\n",
       "<style scoped>\n",
       "    .dataframe tbody tr th:only-of-type {\n",
       "        vertical-align: middle;\n",
       "    }\n",
       "\n",
       "    .dataframe tbody tr th {\n",
       "        vertical-align: top;\n",
       "    }\n",
       "\n",
       "    .dataframe thead th {\n",
       "        text-align: right;\n",
       "    }\n",
       "</style>\n",
       "<table border=\"1\" class=\"dataframe\">\n",
       "  <thead>\n",
       "    <tr style=\"text-align: right;\">\n",
       "      <th></th>\n",
       "      <th>Name</th>\n",
       "      <th>Age</th>\n",
       "      <th>Gender</th>\n",
       "    </tr>\n",
       "  </thead>\n",
       "  <tbody>\n",
       "    <tr>\n",
       "      <th>0</th>\n",
       "      <td>Alice</td>\n",
       "      <td>25</td>\n",
       "      <td>Female</td>\n",
       "    </tr>\n",
       "    <tr>\n",
       "      <th>1</th>\n",
       "      <td>Bob</td>\n",
       "      <td>30</td>\n",
       "      <td>Male</td>\n",
       "    </tr>\n",
       "    <tr>\n",
       "      <th>2</th>\n",
       "      <td>Claire</td>\n",
       "      <td>27</td>\n",
       "      <td>Female</td>\n",
       "    </tr>\n",
       "  </tbody>\n",
       "</table>\n",
       "</div>"
      ],
      "text/plain": [
       "     Name  Age  Gender\n",
       "0   Alice   25  Female\n",
       "1     Bob   30    Male\n",
       "2  Claire   27  Female"
      ]
     },
     "execution_count": 4,
     "metadata": {},
     "output_type": "execute_result"
    }
   ],
   "source": [
    "#Q3. Create a Pandas DataFrame that contains the following data: hen, print the DataFrame.\n",
    "\n",
    "import pandas as pd\n",
    "df = pd.DataFrame({'Name':['Alice', 'Bob', 'Claire'], 'Age':[25, 30, 27], 'Gender':['Female', 'Male','Female']})\n",
    "df\n"
   ]
  },
  {
   "cell_type": "code",
   "execution_count": 5,
   "id": "061a1e13-d854-46fe-a0a7-3a5a47654bb6",
   "metadata": {},
   "outputs": [
    {
     "name": "stdout",
     "output_type": "stream",
     "text": [
      "Pandas Series:\n",
      " 0    10\n",
      "1    20\n",
      "2    30\n",
      "3    40\n",
      "4    50\n",
      "dtype: int64\n",
      "\n",
      "Pandas DataFrame:\n",
      "     Name  Age  Salary\n",
      "0   John   25   50000\n",
      "1   Jane   30   60000\n",
      "2    Bob   35   70000\n",
      "3  Alice   40   80000\n",
      "4   Mike   45   90000\n"
     ]
    }
   ],
   "source": [
    "#Q4. What is ‘DataFrame’ in pandas and how is it different from pandas.series? Explain with an example.\n",
    "\n",
    "# A DataFrame in Pandas is a two-dimensional labeled data structure with columns of potentially different types. It is similar to a spreadsheet or a SQL table, where each column can have a different type (e.g., numeric, string, boolean), and rows are labeled with an index. A DataFrame can be thought of as a collection of Series objects, where each Series represents a column in the DataFrame.\n",
    "\n",
    "# The main difference between a Series and a DataFrame is that a Series represents a single column of data, while a DataFrame represents multiple columns of data, arranged in a tabular format.\n",
    "\n",
    "# here's an example to illustrate the difference between a Series and a DataFrame:\n",
    "\n",
    "import pandas as pd\n",
    "\n",
    "# Creating a Pandas Series\n",
    "my_series = pd.Series([10, 20, 30, 40, 50])\n",
    "\n",
    "# Creating a Pandas DataFrame\n",
    "my_dataframe = pd.DataFrame({\n",
    "    'Name': ['John', 'Jane', 'Bob', 'Alice', 'Mike'],\n",
    "    'Age': [25, 30, 35, 40, 45],\n",
    "    'Salary': [50000, 60000, 70000, 80000, 90000]\n",
    "})\n",
    "\n",
    "# Printing the Series and DataFrame\n",
    "print(\"Pandas Series:\\n\", my_series)\n",
    "print(\"\\nPandas DataFrame:\\n\", my_dataframe)"
   ]
  },
  {
   "cell_type": "code",
   "execution_count": 6,
   "id": "63042958-a77f-43e3-a1ab-027c99f47281",
   "metadata": {},
   "outputs": [
    {
     "name": "stdout",
     "output_type": "stream",
     "text": [
      "count        5.000000\n",
      "mean     70000.000000\n",
      "std      15811.388301\n",
      "min      50000.000000\n",
      "25%      60000.000000\n",
      "50%      70000.000000\n",
      "75%      80000.000000\n",
      "max      90000.000000\n",
      "Name: Salary, dtype: float64\n"
     ]
    }
   ],
   "source": [
    "#Q5. What are some common functions you can use to manipulate data in a Pandas DataFrame? Can you give an example of when you might use one of these functions?\n",
    "# Pandas provides a wide range of functions that can be used to manipulate data in a DataFrame. Some common functions include:\n",
    "\n",
    "# head() and tail(): to view the first or last n rows of a DataFrame describe(): to view the statistical summary of the DataFrame shape: to view the number of rows and columns in the DataFrame drop(): to remove rows or columns from the DataFrame groupby(): to group rows based on a column and apply a function to each group sort_values(): to sort the DataFrame by one or more columns fillna(): to fill missing values in the DataFrame with a specified value or method apply(): to apply a function to each element of a DataFrame or a Series merge(): to join two or more DataFrames based on a common column or index Here's an example of when you might use one of these functions. Suppose you have a DataFrame containing information about employees in a company, and you want to view the statistical summary of their salaries:\n",
    "\n",
    "import pandas as pd\n",
    "\n",
    "# Creating a sample DataFrame\n",
    "\n",
    "employee_data = {\n",
    "    'Name': ['John', 'Jane', 'Bob', 'Alice', 'Mike'],\n",
    "    'Age': [25, 30, 35, 40, 45],\n",
    "    'Salary': [50000, 60000, 70000, 80000, 90000]\n",
    "}\n",
    "df = pd.DataFrame(employee_data)\n",
    "\n",
    "# Using the describe() function to view the statistical summary of the Salary column\n",
    "print(df['Salary'].describe())"
   ]
  },
  {
   "cell_type": "code",
   "execution_count": 7,
   "id": "67171de3-1368-462a-a94b-fd64124d4d52",
   "metadata": {},
   "outputs": [],
   "source": [
    "#Q6. Which of the following is mutable in nature Series, DataFrame, Panel?\n",
    "# Among the three data structures provided by Pandas, only the DataFrame and Panel are mutable in nature.\n",
    "\n",
    "# A DataFrame is mutable because you can add, remove or modify columns and rows. Similarly, a Panel is mutable because you can add or remove items along the axis.\n",
    "\n",
    "# On the other hand, a Series is immutable because it represents a single column of data with an index. Once created, you cannot add or remove elements from a Series. However, you can modify the values of existing elements in a Series.\n",
    "\n"
   ]
  },
  {
   "cell_type": "code",
   "execution_count": 8,
   "id": "6fbbbf76-8a9e-4c2d-aac6-9e7907f67e34",
   "metadata": {},
   "outputs": [
    {
     "name": "stdout",
     "output_type": "stream",
     "text": [
      "    Name  Age  Gender\n",
      "0   John   25    Male\n",
      "1   Jane   30  Female\n",
      "2    Bob   35    Male\n",
      "3  Alice   40  Female\n",
      "4   Mike   45    Male\n"
     ]
    }
   ],
   "source": [
    "# Q7. Create a DataFrame using multiple Series. Explain with an example.\n",
    "import pandas as pd\n",
    "\n",
    "# Creating Series for Name, Age and Gender\n",
    "name = pd.Series(['John', 'Jane', 'Bob', 'Alice', 'Mike'])\n",
    "age = pd.Series([25, 30, 35, 40, 45])\n",
    "gender = pd.Series(['Male', 'Female', 'Male', 'Female', 'Male'])\n",
    "\n",
    "# Creating a DataFrame by passing the Series as arguments\n",
    "df = pd.DataFrame({'Name': name, 'Age': age, 'Gender': gender})\n",
    "\n",
    "# Printing the DataFrame\n",
    "print(df)"
   ]
  },
  {
   "cell_type": "code",
   "execution_count": null,
   "id": "a5dca02c-425c-467f-adef-d3485a9f849b",
   "metadata": {},
   "outputs": [],
   "source": []
  }
 ],
 "metadata": {
  "kernelspec": {
   "display_name": "Python 3 (ipykernel)",
   "language": "python",
   "name": "python3"
  },
  "language_info": {
   "codemirror_mode": {
    "name": "ipython",
    "version": 3
   },
   "file_extension": ".py",
   "mimetype": "text/x-python",
   "name": "python",
   "nbconvert_exporter": "python",
   "pygments_lexer": "ipython3",
   "version": "3.10.8"
  }
 },
 "nbformat": 4,
 "nbformat_minor": 5
}
